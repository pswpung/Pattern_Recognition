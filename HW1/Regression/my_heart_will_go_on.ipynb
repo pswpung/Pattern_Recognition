{
 "cells": [
  {
   "cell_type": "markdown",
   "source": [
    "## My heart will go on\r\n",
    "In this part of the exercise we will work on the Titanic dataset provided by Kaggle. The Titanic dataset contains information of the passengers boarding the Titanic on its final voyage. We will work on predicting whether a given passenger will survive the trip."
   ],
   "metadata": {}
  },
  {
   "cell_type": "code",
   "execution_count": 249,
   "source": [
    "import pandas as pd\r\n",
    "import numpy as np\r\n",
    "from sklearn import datasets, linear_model"
   ],
   "outputs": [],
   "metadata": {}
  },
  {
   "cell_type": "code",
   "execution_count": 250,
   "source": [
    "#training set\r\n",
    "train_url = \"http://s3.amazonaws.com/assets.datacamp.com/course/Kaggle/train.csv\"\r\n",
    "train = pd.read_csv(train_url)\r\n",
    "train[\"Age\"] = train[\"Age\"].fillna(train[\"Age\"].median())\r\n",
    "train.loc[train[\"Embarked\"] == \"S\", \"Embarked\"] = 0\r\n",
    "train.loc[train[\"Embarked\"] == \"C\", \"Embarked\"] = 1\r\n",
    "train.loc[train[\"Embarked\"] == \"Q\", \"Embarked\"] = 2\r\n",
    "train.loc[train[\"Sex\"] == \"male\", \"Sex\"] = 0\r\n",
    "train.loc[train[\"Sex\"] == \"female\", \"Sex\"] = 1\r\n",
    "train.isna().sum()"
   ],
   "outputs": [
    {
     "output_type": "execute_result",
     "data": {
      "text/plain": [
       "PassengerId      0\n",
       "Survived         0\n",
       "Pclass           0\n",
       "Name             0\n",
       "Sex              0\n",
       "Age              0\n",
       "SibSp            0\n",
       "Parch            0\n",
       "Ticket           0\n",
       "Fare             0\n",
       "Cabin          687\n",
       "Embarked         2\n",
       "dtype: int64"
      ]
     },
     "metadata": {},
     "execution_count": 250
    }
   ],
   "metadata": {}
  },
  {
   "cell_type": "code",
   "execution_count": 251,
   "source": [
    "train[\"Embarked\"] = train[\"Embarked\"].fillna(train[\"Embarked\"].median())"
   ],
   "outputs": [],
   "metadata": {}
  },
  {
   "cell_type": "code",
   "execution_count": 252,
   "source": [
    "train.isna().sum()"
   ],
   "outputs": [
    {
     "output_type": "execute_result",
     "data": {
      "text/plain": [
       "PassengerId      0\n",
       "Survived         0\n",
       "Pclass           0\n",
       "Name             0\n",
       "Sex              0\n",
       "Age              0\n",
       "SibSp            0\n",
       "Parch            0\n",
       "Ticket           0\n",
       "Fare             0\n",
       "Cabin          687\n",
       "Embarked         0\n",
       "dtype: int64"
      ]
     },
     "metadata": {},
     "execution_count": 252
    }
   ],
   "metadata": {}
  },
  {
   "cell_type": "code",
   "execution_count": 253,
   "source": [
    "#test set\r\n",
    "test_url = \"http://s3.amazonaws.com/assets.datacamp.com/course/Kaggle/test.csv\"\r\n",
    "test = pd.read_csv(test_url) \r\n",
    "test[\"Constant\"] = 1\r\n",
    "test[\"Age\"] = test[\"Age\"].fillna(test[\"Age\"].median())\r\n",
    "test.loc[test[\"Embarked\"] == \"S\", \"Embarked\"] = 0\r\n",
    "test.loc[test[\"Embarked\"] == \"C\", \"Embarked\"] = 1\r\n",
    "test.loc[test[\"Embarked\"] == \"Q\", \"Embarked\"] = 2\r\n",
    "test.loc[test[\"Sex\"] == \"male\", \"Sex\"] = 0\r\n",
    "test.loc[test[\"Sex\"] == \"female\", \"Sex\"] = 1\r\n",
    "test.isna().sum()"
   ],
   "outputs": [
    {
     "output_type": "execute_result",
     "data": {
      "text/plain": [
       "PassengerId      0\n",
       "Pclass           0\n",
       "Name             0\n",
       "Sex              0\n",
       "Age              0\n",
       "SibSp            0\n",
       "Parch            0\n",
       "Ticket           0\n",
       "Fare             1\n",
       "Cabin          327\n",
       "Embarked         0\n",
       "Constant         0\n",
       "dtype: int64"
      ]
     },
     "metadata": {},
     "execution_count": 253
    }
   ],
   "metadata": {}
  },
  {
   "cell_type": "code",
   "execution_count": 254,
   "source": [
    "# Explore data before scaling Age\r\n",
    "print(f\"Max train age : {max(train['Age'])}\")\r\n",
    "print(f\"Max test age : {max(test['Age'])}\"\"\")"
   ],
   "outputs": [
    {
     "output_type": "stream",
     "name": "stdout",
     "text": [
      "Max train age : 80.0\n",
      "Max test age : 76.0\n"
     ]
    }
   ],
   "metadata": {}
  },
  {
   "cell_type": "code",
   "execution_count": 255,
   "source": [
    "# Normalize data\r\n",
    "train_data = pd.DataFrame()\r\n",
    "test_data = pd.DataFrame()\r\n",
    "for i in train.columns:\r\n",
    "    if i in (\"Pclass\", \"Age\", \"Embarked\"):\r\n",
    "        train_min = min(train[i])\r\n",
    "        train_max = max(train[i])\r\n",
    "        train_data[i] = (train[i] - train_min)/(train_max - train_min)\r\n",
    "        test_data[i] = (test[i] - train_min)/(train_max - train_min)\r\n",
    "\r\n",
    "train_data[\"Survived\"] = train[\"Survived\"]\r\n",
    "train_data[\"Sex\"] = train[\"Sex\"]\r\n",
    "train_data[\"Constant\"] = 1\r\n",
    "train_data[\"Pclass_2\"] = train_data[\"Pclass\"]**2\r\n",
    "train_data[\"Sex_2\"] = train_data[\"Sex\"]**2\r\n",
    "train_data[\"Age_2\"] = train_data[\"Age\"]**2\r\n",
    "train_data[\"Embarked_2\"] = train_data[\"Embarked\"]**2\r\n",
    "\r\n",
    "test_data[\"Sex\"] = test[\"Sex\"]\r\n",
    "test_data[\"Constant\"] = 1\r\n",
    "test_data[\"Pclass_2\"] = test_data[\"Pclass\"]**2\r\n",
    "test_data[\"Sex_2\"] = test_data[\"Sex\"]**2\r\n",
    "test_data[\"Age_2\"] = test_data[\"Age\"]**2\r\n",
    "test_data[\"Embarked_2\"] = test_data[\"Embarked\"]**2"
   ],
   "outputs": [
    {
     "output_type": "execute_result",
     "data": {
      "text/plain": [
       "     Pclass       Age  Embarked  Survived Sex  Constant  Pclass_2 Sex_2  \\\n",
       "0       1.0  0.271174       0.0         0   0         1      1.00     0   \n",
       "1       0.0  0.472229       0.5         1   1         1      0.00     1   \n",
       "2       1.0  0.321438       0.0         1   1         1      1.00     1   \n",
       "3       0.0  0.434531       0.0         1   1         1      0.00     1   \n",
       "4       1.0  0.434531       0.0         0   0         1      1.00     0   \n",
       "..      ...       ...       ...       ...  ..       ...       ...   ...   \n",
       "886     0.5  0.334004       0.0         0   0         1      0.25     0   \n",
       "887     0.0  0.233476       0.0         1   1         1      0.00     1   \n",
       "888     1.0  0.346569       0.0         0   1         1      1.00     1   \n",
       "889     0.0  0.321438       0.5         1   0         1      0.00     0   \n",
       "890     1.0  0.396833       1.0         0   0         1      1.00     0   \n",
       "\n",
       "        Age_2  Embarked_2  \n",
       "0    0.073535        0.00  \n",
       "1    0.223000        0.25  \n",
       "2    0.103322        0.00  \n",
       "3    0.188817        0.00  \n",
       "4    0.188817        0.00  \n",
       "..        ...         ...  \n",
       "886  0.111558        0.00  \n",
       "887  0.054511        0.00  \n",
       "888  0.120110        0.00  \n",
       "889  0.103322        0.25  \n",
       "890  0.157477        1.00  \n",
       "\n",
       "[891 rows x 10 columns]"
      ],
      "text/html": [
       "<div>\n",
       "<style scoped>\n",
       "    .dataframe tbody tr th:only-of-type {\n",
       "        vertical-align: middle;\n",
       "    }\n",
       "\n",
       "    .dataframe tbody tr th {\n",
       "        vertical-align: top;\n",
       "    }\n",
       "\n",
       "    .dataframe thead th {\n",
       "        text-align: right;\n",
       "    }\n",
       "</style>\n",
       "<table border=\"1\" class=\"dataframe\">\n",
       "  <thead>\n",
       "    <tr style=\"text-align: right;\">\n",
       "      <th></th>\n",
       "      <th>Pclass</th>\n",
       "      <th>Age</th>\n",
       "      <th>Embarked</th>\n",
       "      <th>Survived</th>\n",
       "      <th>Sex</th>\n",
       "      <th>Constant</th>\n",
       "      <th>Pclass_2</th>\n",
       "      <th>Sex_2</th>\n",
       "      <th>Age_2</th>\n",
       "      <th>Embarked_2</th>\n",
       "    </tr>\n",
       "  </thead>\n",
       "  <tbody>\n",
       "    <tr>\n",
       "      <th>0</th>\n",
       "      <td>1.0</td>\n",
       "      <td>0.271174</td>\n",
       "      <td>0.0</td>\n",
       "      <td>0</td>\n",
       "      <td>0</td>\n",
       "      <td>1</td>\n",
       "      <td>1.00</td>\n",
       "      <td>0</td>\n",
       "      <td>0.073535</td>\n",
       "      <td>0.00</td>\n",
       "    </tr>\n",
       "    <tr>\n",
       "      <th>1</th>\n",
       "      <td>0.0</td>\n",
       "      <td>0.472229</td>\n",
       "      <td>0.5</td>\n",
       "      <td>1</td>\n",
       "      <td>1</td>\n",
       "      <td>1</td>\n",
       "      <td>0.00</td>\n",
       "      <td>1</td>\n",
       "      <td>0.223000</td>\n",
       "      <td>0.25</td>\n",
       "    </tr>\n",
       "    <tr>\n",
       "      <th>2</th>\n",
       "      <td>1.0</td>\n",
       "      <td>0.321438</td>\n",
       "      <td>0.0</td>\n",
       "      <td>1</td>\n",
       "      <td>1</td>\n",
       "      <td>1</td>\n",
       "      <td>1.00</td>\n",
       "      <td>1</td>\n",
       "      <td>0.103322</td>\n",
       "      <td>0.00</td>\n",
       "    </tr>\n",
       "    <tr>\n",
       "      <th>3</th>\n",
       "      <td>0.0</td>\n",
       "      <td>0.434531</td>\n",
       "      <td>0.0</td>\n",
       "      <td>1</td>\n",
       "      <td>1</td>\n",
       "      <td>1</td>\n",
       "      <td>0.00</td>\n",
       "      <td>1</td>\n",
       "      <td>0.188817</td>\n",
       "      <td>0.00</td>\n",
       "    </tr>\n",
       "    <tr>\n",
       "      <th>4</th>\n",
       "      <td>1.0</td>\n",
       "      <td>0.434531</td>\n",
       "      <td>0.0</td>\n",
       "      <td>0</td>\n",
       "      <td>0</td>\n",
       "      <td>1</td>\n",
       "      <td>1.00</td>\n",
       "      <td>0</td>\n",
       "      <td>0.188817</td>\n",
       "      <td>0.00</td>\n",
       "    </tr>\n",
       "    <tr>\n",
       "      <th>...</th>\n",
       "      <td>...</td>\n",
       "      <td>...</td>\n",
       "      <td>...</td>\n",
       "      <td>...</td>\n",
       "      <td>...</td>\n",
       "      <td>...</td>\n",
       "      <td>...</td>\n",
       "      <td>...</td>\n",
       "      <td>...</td>\n",
       "      <td>...</td>\n",
       "    </tr>\n",
       "    <tr>\n",
       "      <th>886</th>\n",
       "      <td>0.5</td>\n",
       "      <td>0.334004</td>\n",
       "      <td>0.0</td>\n",
       "      <td>0</td>\n",
       "      <td>0</td>\n",
       "      <td>1</td>\n",
       "      <td>0.25</td>\n",
       "      <td>0</td>\n",
       "      <td>0.111558</td>\n",
       "      <td>0.00</td>\n",
       "    </tr>\n",
       "    <tr>\n",
       "      <th>887</th>\n",
       "      <td>0.0</td>\n",
       "      <td>0.233476</td>\n",
       "      <td>0.0</td>\n",
       "      <td>1</td>\n",
       "      <td>1</td>\n",
       "      <td>1</td>\n",
       "      <td>0.00</td>\n",
       "      <td>1</td>\n",
       "      <td>0.054511</td>\n",
       "      <td>0.00</td>\n",
       "    </tr>\n",
       "    <tr>\n",
       "      <th>888</th>\n",
       "      <td>1.0</td>\n",
       "      <td>0.346569</td>\n",
       "      <td>0.0</td>\n",
       "      <td>0</td>\n",
       "      <td>1</td>\n",
       "      <td>1</td>\n",
       "      <td>1.00</td>\n",
       "      <td>1</td>\n",
       "      <td>0.120110</td>\n",
       "      <td>0.00</td>\n",
       "    </tr>\n",
       "    <tr>\n",
       "      <th>889</th>\n",
       "      <td>0.0</td>\n",
       "      <td>0.321438</td>\n",
       "      <td>0.5</td>\n",
       "      <td>1</td>\n",
       "      <td>0</td>\n",
       "      <td>1</td>\n",
       "      <td>0.00</td>\n",
       "      <td>0</td>\n",
       "      <td>0.103322</td>\n",
       "      <td>0.25</td>\n",
       "    </tr>\n",
       "    <tr>\n",
       "      <th>890</th>\n",
       "      <td>1.0</td>\n",
       "      <td>0.396833</td>\n",
       "      <td>1.0</td>\n",
       "      <td>0</td>\n",
       "      <td>0</td>\n",
       "      <td>1</td>\n",
       "      <td>1.00</td>\n",
       "      <td>0</td>\n",
       "      <td>0.157477</td>\n",
       "      <td>1.00</td>\n",
       "    </tr>\n",
       "  </tbody>\n",
       "</table>\n",
       "<p>891 rows × 10 columns</p>\n",
       "</div>"
      ]
     },
     "metadata": {},
     "execution_count": 255
    }
   ],
   "metadata": {}
  },
  {
   "cell_type": "markdown",
   "source": [
    "## define function"
   ],
   "metadata": {}
  },
  {
   "cell_type": "code",
   "execution_count": 256,
   "source": [
    "# iteration to find theta\r\n",
    "def iteration(iter, theta, data):\r\n",
    "    for round in range(iter):\r\n",
    "        sum_data = [0 for i in range(len(theta))]\r\n",
    "        for i in range(len(data)):\r\n",
    "            lin = theta.dot(data[i].reshape((len(data[i]),1)))[0]\r\n",
    "            exp = 1/(1+ np.exp(-lin))\r\n",
    "            for n in range(len(sum_data)):\r\n",
    "                sum_data[n] += (y[i] - exp) * data[i][n]\r\n",
    "        theta = theta + lr * np.array(sum_data)\r\n",
    "    for i in range(len(theta)):\r\n",
    "        print(f\"theta_{i}(feature : {feature[i]}) : {theta[i]}\")\r\n",
    "    return theta"
   ],
   "outputs": [],
   "metadata": {}
  },
  {
   "cell_type": "code",
   "execution_count": 257,
   "source": [
    " def prediction(feature, dataset, theta):\r\n",
    "    predicted = []\r\n",
    "    data = np.array(dataset[feature])\r\n",
    "    for i in range(len(data)):\r\n",
    "        predict = theta.dot(data[i].reshape(len(data[i]),1))[0]\r\n",
    "        predicted.append(predict)\r\n",
    "    for i in range(len(predicted)):\r\n",
    "        checked = 1/(1+np.exp(-predicted[i]))\r\n",
    "        if checked <= 0.5:\r\n",
    "            predicted[i] = 0\r\n",
    "        else:\r\n",
    "            predicted[i] = 1\r\n",
    "    dataset[\"Survived_predicted\"] = predicted"
   ],
   "outputs": [],
   "metadata": {}
  },
  {
   "cell_type": "code",
   "execution_count": 258,
   "source": [
    "def test_to_csv(filename, test, test_data):\r\n",
    "    # Export to CSV\r\n",
    "    filepath = \"./\" + filename +\".csv\"\r\n",
    "    Question = test[[\"PassengerId\", \"Name\", \"Sex\", \"Age\"]]\r\n",
    "    Question.loc[Question[\"Sex\"] == 0, \"Sex\"] = \"male\"\r\n",
    "    Question.loc[Question[\"Sex\"] == 1, \"Sex\"] = \"female\"\r\n",
    "    Question[\"Survived\"] = test_data[\"Survived_predicted\"]\r\n",
    "    Question.to_csv(filepath, index = False)"
   ],
   "outputs": [],
   "metadata": {}
  },
  {
   "cell_type": "markdown",
   "source": [
    "## Prediction with 4 features [\"Pclass\", \"Sex\", \"Age\", \"Embarked\"]"
   ],
   "metadata": {}
  },
  {
   "cell_type": "code",
   "execution_count": 259,
   "source": [
    "# Declare variable\r\n",
    "filename = \"Question1\"\r\n",
    "lr = 0.001\r\n",
    "iter = 5000\r\n",
    "feature = [\"Constant\", \"Pclass\", \"Sex\", \"Age\", \"Embarked\"]\r\n",
    "data = np.array(train_data[feature])\r\n",
    "y = np.array(train_data[\"Survived\"])\r\n",
    "theta = np.array([0 for i in range(len(data[0]))])"
   ],
   "outputs": [],
   "metadata": {}
  },
  {
   "cell_type": "code",
   "execution_count": 260,
   "source": [
    "theta = iteration(iter, theta, data)\r\n",
    "prediction(feature, train_data, theta)"
   ],
   "outputs": [
    {
     "output_type": "stream",
     "name": "stdout",
     "text": [
      "theta_0(feature : Constant) : 0.8609832070823091\n",
      "theta_1(feature : Pclass) : -2.39271822258936\n",
      "theta_2(feature : Sex) : 2.5754004481651633\n",
      "theta_3(feature : Age) : -2.684422986503412\n",
      "theta_4(feature : Embarked) : 0.6418055616478123\n"
     ]
    }
   ],
   "metadata": {}
  },
  {
   "cell_type": "code",
   "execution_count": 261,
   "source": [
    "# result from training data\r\n",
    "train_data[\"result\"] = (train_data[\"Survived_predicted\"] == train_data[\"Survived\"])\r\n",
    "train_data[[\"Survived\", \"Survived_predicted\", \"result\"]]\r\n",
    "train_data[\"result\"].value_counts()"
   ],
   "outputs": [
    {
     "output_type": "execute_result",
     "data": {
      "text/plain": [
       "True     704\n",
       "False    187\n",
       "Name: result, dtype: int64"
      ]
     },
     "metadata": {},
     "execution_count": 261
    }
   ],
   "metadata": {}
  },
  {
   "cell_type": "code",
   "execution_count": 262,
   "source": [
    "# predict test data\r\n",
    "prediction(feature, test_data, theta)\r\n",
    "test_data.loc[test_data[\"Survived_predicted\"] == 0, \"Survived_predicted\"] = \"Dead\"\r\n",
    "test_data.loc[test_data[\"Survived_predicted\"] == 1, \"Survived_predicted\"] = \"Alive\"\r\n",
    "test_data[\"Survived_predicted\"].value_counts()"
   ],
   "outputs": [
    {
     "output_type": "execute_result",
     "data": {
      "text/plain": [
       "Dead     259\n",
       "Alive    159\n",
       "Name: Survived_predicted, dtype: int64"
      ]
     },
     "metadata": {},
     "execution_count": 262
    }
   ],
   "metadata": {}
  },
  {
   "cell_type": "code",
   "execution_count": 263,
   "source": [
    "# Export to .CSV\r\n",
    "test_to_csv(filename, test, test_data)"
   ],
   "outputs": [
    {
     "output_type": "stream",
     "name": "stderr",
     "text": [
      "C:\\Users\\pswpu\\AppData\\Local\\Programs\\Python\\Python38\\lib\\site-packages\\pandas\\core\\indexing.py:1817: SettingWithCopyWarning: \n",
      "A value is trying to be set on a copy of a slice from a DataFrame.\n",
      "Try using .loc[row_indexer,col_indexer] = value instead\n",
      "\n",
      "See the caveats in the documentation: https://pandas.pydata.org/pandas-docs/stable/user_guide/indexing.html#returning-a-view-versus-a-copy\n",
      "  self._setitem_single_column(loc, value, pi)\n",
      "C:\\Users\\pswpu\\AppData\\Local\\Programs\\Python\\Python38\\lib\\site-packages\\pandas\\core\\frame.py:3607: SettingWithCopyWarning: \n",
      "A value is trying to be set on a copy of a slice from a DataFrame.\n",
      "Try using .loc[row_indexer,col_indexer] = value instead\n",
      "\n",
      "See the caveats in the documentation: https://pandas.pydata.org/pandas-docs/stable/user_guide/indexing.html#returning-a-view-versus-a-copy\n",
      "  self._set_item(key, value)\n"
     ]
    }
   ],
   "metadata": {}
  },
  {
   "cell_type": "markdown",
   "source": [
    "## (Optional) Try adding some higher order features to your training"
   ],
   "metadata": {}
  },
  {
   "cell_type": "code",
   "execution_count": 264,
   "source": [
    "# Declare variable\r\n",
    "filename = \"Question2\"\r\n",
    "lr = 0.001\r\n",
    "iter = 5000\r\n",
    "feature = [\"Constant\", \"Pclass\", \"Sex\", \"Age\", \"Embarked\", \"Pclass_2\", \"Sex_2\", \"Age_2\", \"Embarked_2\"]\r\n",
    "data = np.array(train_data[feature])\r\n",
    "y = np.array(train_data[\"Survived\"])\r\n",
    "theta = np.array([0 for i in range(len(data[0]))])"
   ],
   "outputs": [],
   "metadata": {}
  },
  {
   "cell_type": "code",
   "execution_count": 265,
   "source": [
    "theta = iteration(iter, theta, data)\r\n",
    "prediction(feature, train_data, theta)"
   ],
   "outputs": [
    {
     "output_type": "stream",
     "name": "stdout",
     "text": [
      "theta_0(feature : Constant) : 0.785713630778885\n",
      "theta_1(feature : Pclass) : -1.5047932434984543\n",
      "theta_2(feature : Sex) : 1.2886062762134263\n",
      "theta_3(feature : Age) : -3.3859110865792763\n",
      "theta_4(feature : Embarked) : 1.5579246619388971\n",
      "theta_5(feature : Pclass_2) : -0.763875319934654\n",
      "theta_6(feature : Sex_2) : 1.2886062762134263\n",
      "theta_7(feature : Age_2) : 1.108270825353279\n",
      "theta_8(feature : Embarked_2) : -1.0082200866128888\n"
     ]
    }
   ],
   "metadata": {}
  },
  {
   "cell_type": "code",
   "execution_count": 266,
   "source": [
    "# result from training data\r\n",
    "train_data[\"result\"] = (train_data[\"Survived_predicted\"] == train_data[\"Survived\"])\r\n",
    "train_data[[\"Survived\", \"Survived_predicted\", \"result\"]]\r\n",
    "train_data[\"result\"].value_counts()"
   ],
   "outputs": [
    {
     "output_type": "execute_result",
     "data": {
      "text/plain": [
       "True     707\n",
       "False    184\n",
       "Name: result, dtype: int64"
      ]
     },
     "metadata": {},
     "execution_count": 266
    }
   ],
   "metadata": {}
  },
  {
   "cell_type": "code",
   "execution_count": 267,
   "source": [
    "# predict test data\r\n",
    "prediction(feature, test_data, theta)\r\n",
    "test_data.loc[test_data[\"Survived_predicted\"] == 0, \"Survived_predicted\"] = \"Dead\"\r\n",
    "test_data.loc[test_data[\"Survived_predicted\"] == 1, \"Survived_predicted\"] = \"Alive\"\r\n",
    "test_data[\"Survived_predicted\"].value_counts()"
   ],
   "outputs": [
    {
     "output_type": "execute_result",
     "data": {
      "text/plain": [
       "Dead     261\n",
       "Alive    157\n",
       "Name: Survived_predicted, dtype: int64"
      ]
     },
     "metadata": {},
     "execution_count": 267
    }
   ],
   "metadata": {}
  },
  {
   "cell_type": "code",
   "execution_count": 268,
   "source": [
    "# Export to .CSV\r\n",
    "test_to_csv(filename, test, test_data)"
   ],
   "outputs": [],
   "metadata": {}
  },
  {
   "cell_type": "markdown",
   "source": [
    "## (Optional) What happens if you reduce the amount of features to just Sex and Age?"
   ],
   "metadata": {}
  },
  {
   "cell_type": "code",
   "execution_count": 269,
   "source": [
    "# Declare variable\r\n",
    "filename = \"Question3\"\r\n",
    "lr = 0.001\r\n",
    "iter = 5000\r\n",
    "feature = [\"Constant\", \"Sex\", \"Age\"]\r\n",
    "data = np.array(train_data[feature])\r\n",
    "y = np.array(train_data[\"Survived\"])\r\n",
    "theta = np.array([0 for i in range(len(data[0]))])"
   ],
   "outputs": [],
   "metadata": {}
  },
  {
   "cell_type": "code",
   "execution_count": 270,
   "source": [
    "theta = iteration(iter, theta, data)\r\n",
    "prediction(feature, train_data, theta)"
   ],
   "outputs": [
    {
     "output_type": "stream",
     "name": "stdout",
     "text": [
      "theta_0(feature : Constant) : -1.3174995712370055\n",
      "theta_1(feature : Sex) : 2.505313792611764\n",
      "theta_2(feature : Age) : -0.37701875698102755\n"
     ]
    }
   ],
   "metadata": {}
  },
  {
   "cell_type": "code",
   "execution_count": 271,
   "source": [
    "# result from training data\r\n",
    "train_data[\"result\"] = (train_data[\"Survived_predicted\"] == train_data[\"Survived\"])\r\n",
    "train_data[[\"Survived\", \"Survived_predicted\", \"result\"]]\r\n",
    "train_data[\"result\"].value_counts()"
   ],
   "outputs": [
    {
     "output_type": "execute_result",
     "data": {
      "text/plain": [
       "True     701\n",
       "False    190\n",
       "Name: result, dtype: int64"
      ]
     },
     "metadata": {},
     "execution_count": 271
    }
   ],
   "metadata": {}
  },
  {
   "cell_type": "code",
   "execution_count": 272,
   "source": [
    "# predict test data\r\n",
    "prediction(feature, test_data, theta)\r\n",
    "test_data.loc[test_data[\"Survived_predicted\"] == 0, \"Survived_predicted\"] = \"Dead\"\r\n",
    "test_data.loc[test_data[\"Survived_predicted\"] == 1, \"Survived_predicted\"] = \"Alive\"\r\n",
    "test_data[\"Survived_predicted\"].value_counts()"
   ],
   "outputs": [
    {
     "output_type": "execute_result",
     "data": {
      "text/plain": [
       "Dead     266\n",
       "Alive    152\n",
       "Name: Survived_predicted, dtype: int64"
      ]
     },
     "metadata": {},
     "execution_count": 272
    }
   ],
   "metadata": {}
  },
  {
   "cell_type": "code",
   "execution_count": 273,
   "source": [
    "# Export to .CSV\r\n",
    "test_to_csv(filename, test, test_data)"
   ],
   "outputs": [],
   "metadata": {}
  }
 ],
 "metadata": {
  "orig_nbformat": 4,
  "language_info": {
   "name": "python",
   "version": "3.8.10",
   "mimetype": "text/x-python",
   "codemirror_mode": {
    "name": "ipython",
    "version": 3
   },
   "pygments_lexer": "ipython3",
   "nbconvert_exporter": "python",
   "file_extension": ".py"
  },
  "kernelspec": {
   "name": "python3",
   "display_name": "Python 3.8.10 64-bit"
  },
  "interpreter": {
   "hash": "19dee9572536413c0bdf4646039cf15f674a64e95912da87c32b34734a7fdd1f"
  }
 },
 "nbformat": 4,
 "nbformat_minor": 2
}