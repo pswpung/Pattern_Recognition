{
 "cells": [
  {
   "cell_type": "markdown",
   "source": [
    "## My heart will go on\r\n",
    "In this part of the exercise we will work on the Titanic dataset provided by Kaggle. The Titanic dataset contains information of the passengers boarding the Titanic on its final voyage. We will work on predicting whether a given passenger will survive the trip."
   ],
   "metadata": {}
  },
  {
   "cell_type": "markdown",
   "source": [
    "## Import Packages"
   ],
   "metadata": {}
  },
  {
   "cell_type": "code",
   "execution_count": null,
   "source": [
    "import pandas as pd\r\n",
    "import numpy as np\r\n",
    "from sklearn import datasets, linear_model"
   ],
   "outputs": [],
   "metadata": {}
  },
  {
   "cell_type": "markdown",
   "source": [
    "## Declare Variable"
   ],
   "metadata": {}
  },
  {
   "cell_type": "code",
   "execution_count": null,
   "source": [
    "lr = 0.001\r\n",
    "iter = 7500"
   ],
   "outputs": [],
   "metadata": {}
  },
  {
   "cell_type": "markdown",
   "source": [
    "## Prepare Data"
   ],
   "metadata": {}
  },
  {
   "cell_type": "code",
   "execution_count": null,
   "source": [
    "#training set\r\n",
    "train_url = \"http://s3.amazonaws.com/assets.datacamp.com/course/Kaggle/train.csv\"\r\n",
    "train = pd.read_csv(train_url)\r\n",
    "train[\"Age\"] = train[\"Age\"].fillna(train[\"Age\"].median())\r\n",
    "train.loc[train[\"Embarked\"] == \"S\", \"Embarked\"] = 0\r\n",
    "train.loc[train[\"Embarked\"] == \"C\", \"Embarked\"] = 1\r\n",
    "train.loc[train[\"Embarked\"] == \"Q\", \"Embarked\"] = 2\r\n",
    "train.loc[train[\"Sex\"] == \"male\", \"Sex\"] = 0\r\n",
    "train.loc[train[\"Sex\"] == \"female\", \"Sex\"] = 1\r\n",
    "train.isna().sum()"
   ],
   "outputs": [],
   "metadata": {}
  },
  {
   "cell_type": "code",
   "execution_count": null,
   "source": [
    "train[\"Embarked\"] = train[\"Embarked\"].fillna(train[\"Embarked\"].median())"
   ],
   "outputs": [],
   "metadata": {}
  },
  {
   "cell_type": "code",
   "execution_count": null,
   "source": [
    "train.isna().sum()"
   ],
   "outputs": [],
   "metadata": {}
  },
  {
   "cell_type": "code",
   "execution_count": null,
   "source": [
    "#test set\r\n",
    "test_url = \"http://s3.amazonaws.com/assets.datacamp.com/course/Kaggle/test.csv\"\r\n",
    "test = pd.read_csv(test_url) \r\n",
    "test[\"Constant\"] = 1\r\n",
    "test[\"Age\"] = test[\"Age\"].fillna(test[\"Age\"].median())\r\n",
    "test.loc[test[\"Embarked\"] == \"S\", \"Embarked\"] = 0\r\n",
    "test.loc[test[\"Embarked\"] == \"C\", \"Embarked\"] = 1\r\n",
    "test.loc[test[\"Embarked\"] == \"Q\", \"Embarked\"] = 2\r\n",
    "test.loc[test[\"Sex\"] == \"male\", \"Sex\"] = 0\r\n",
    "test.loc[test[\"Sex\"] == \"female\", \"Sex\"] = 1\r\n",
    "test.isna().sum()"
   ],
   "outputs": [],
   "metadata": {}
  },
  {
   "cell_type": "code",
   "execution_count": null,
   "source": [
    "# Explore data before scaling Age\r\n",
    "print(f\"Max train age : {max(train['Age'])}\")\r\n",
    "print(f\"Max test age : {max(test['Age'])}\"\"\")"
   ],
   "outputs": [],
   "metadata": {}
  },
  {
   "cell_type": "code",
   "execution_count": null,
   "source": [
    "# Normalize data\r\n",
    "train_data = pd.DataFrame()\r\n",
    "test_data = pd.DataFrame()\r\n",
    "for i in train.columns:\r\n",
    "    if i in (\"Pclass\", \"Age\", \"Embarked\"):\r\n",
    "        train_min = min(train[i])\r\n",
    "        train_max = max(train[i])\r\n",
    "        train_data[i] = (train[i] - train_min)/(train_max - train_min)\r\n",
    "        test_data[i] = (test[i] - train_min)/(train_max - train_min)\r\n",
    "\r\n",
    "train_data[\"Survived\"] = train[\"Survived\"]\r\n",
    "train_data[\"Sex\"] = train[\"Sex\"]\r\n",
    "train_data[\"Constant\"] = 1\r\n",
    "train_data[\"Pclass_2\"] = train_data[\"Pclass\"]**2\r\n",
    "train_data[\"Sex_2\"] = train_data[\"Sex\"]**2\r\n",
    "train_data[\"Age_2\"] = train_data[\"Age\"]**2\r\n",
    "train_data[\"Embarked_2\"] = train_data[\"Embarked\"]**2\r\n",
    "\r\n",
    "test_data[\"Sex\"] = test[\"Sex\"]\r\n",
    "test_data[\"Constant\"] = 1\r\n",
    "test_data[\"Pclass_2\"] = test_data[\"Pclass\"]**2\r\n",
    "test_data[\"Sex_2\"] = test_data[\"Sex\"]**2\r\n",
    "test_data[\"Age_2\"] = test_data[\"Age\"]**2\r\n",
    "test_data[\"Embarked_2\"] = test_data[\"Embarked\"]**2"
   ],
   "outputs": [],
   "metadata": {}
  },
  {
   "cell_type": "markdown",
   "source": [
    "## define function"
   ],
   "metadata": {}
  },
  {
   "cell_type": "code",
   "execution_count": null,
   "source": [
    "# iteration to find theta\r\n",
    "def iteration(iter, theta, data):\r\n",
    "    for round in range(iter):\r\n",
    "        sum_data = [0 for i in range(len(theta))]\r\n",
    "        for i in range(len(data)):\r\n",
    "            lin = theta.dot(data[i].reshape((len(data[i]),1)))[0]\r\n",
    "            exp = 1/(1+ np.exp(-lin))\r\n",
    "            for n in range(len(sum_data)):\r\n",
    "                sum_data[n] += (y[i] - exp) * data[i][n]\r\n",
    "        theta = theta + lr * np.array(sum_data)\r\n",
    "    for i in range(len(theta)):\r\n",
    "        print(f\"theta_{i}(feature : {feature[i]}) : {theta[i]}\")\r\n",
    "    return theta"
   ],
   "outputs": [],
   "metadata": {}
  },
  {
   "cell_type": "code",
   "execution_count": null,
   "source": [
    " def prediction(feature, dataset, theta):\r\n",
    "    predicted = []\r\n",
    "    data = np.array(dataset[feature])\r\n",
    "    for i in range(len(data)):\r\n",
    "        predict = theta.dot(data[i].reshape(len(data[i]),1))[0]\r\n",
    "        predicted.append(predict)\r\n",
    "    for i in range(len(predicted)):\r\n",
    "        checked = 1/(1+np.exp(-predicted[i]))\r\n",
    "        if checked <= 0.5:\r\n",
    "            predicted[i] = 0\r\n",
    "        else:\r\n",
    "            predicted[i] = 1\r\n",
    "    dataset[\"Survived_predicted\"] = predicted"
   ],
   "outputs": [],
   "metadata": {}
  },
  {
   "cell_type": "code",
   "execution_count": null,
   "source": [
    "def test_to_csv(filename, test, test_data):\r\n",
    "    # Export to CSV\r\n",
    "    filepath = \"./\" + filename +\".csv\"\r\n",
    "    Question = test[[\"PassengerId\", \"Name\", \"Sex\", \"Age\"]]\r\n",
    "    Question.loc[Question[\"Sex\"] == 0, \"Sex\"] = \"male\"\r\n",
    "    Question.loc[Question[\"Sex\"] == 1, \"Sex\"] = \"female\"\r\n",
    "    Question[\"Survived\"] = test_data[\"Survived_predicted\"]\r\n",
    "    Question.to_csv(filepath, index = False)"
   ],
   "outputs": [],
   "metadata": {}
  },
  {
   "cell_type": "markdown",
   "source": [
    "## Prediction with 4 features [\"Pclass\", \"Sex\", \"Age\", \"Embarked\"]"
   ],
   "metadata": {}
  },
  {
   "cell_type": "code",
   "execution_count": null,
   "source": [
    "# Declare variable\r\n",
    "filename = \"Question1\"\r\n",
    "feature = [\"Constant\", \"Pclass\", \"Sex\", \"Age\", \"Embarked\"]\r\n",
    "data = np.array(train_data[feature])\r\n",
    "y = np.array(train_data[\"Survived\"])\r\n",
    "theta = np.array([0 for i in range(len(data[0]))])"
   ],
   "outputs": [],
   "metadata": {}
  },
  {
   "cell_type": "code",
   "execution_count": null,
   "source": [
    "theta = iteration(iter, theta, data)\r\n",
    "prediction(feature, train_data, theta)"
   ],
   "outputs": [],
   "metadata": {}
  },
  {
   "cell_type": "code",
   "execution_count": null,
   "source": [
    "# result from training data\r\n",
    "train_data[\"result\"] = (train_data[\"Survived_predicted\"] == train_data[\"Survived\"])\r\n",
    "train_data[[\"Survived\", \"Survived_predicted\", \"result\"]]\r\n",
    "prediced_result = train_data[\"result\"].value_counts()\r\n",
    "accuracy = prediced_result[True] * 100 /(prediced_result[True] + prediced_result[False])\r\n",
    "print(f\"Accuracy : {accuracy}%\")"
   ],
   "outputs": [],
   "metadata": {}
  },
  {
   "cell_type": "code",
   "execution_count": null,
   "source": [
    "# predict test data\r\n",
    "prediction(feature, test_data, theta)\r\n",
    "test_data.loc[test_data[\"Survived_predicted\"] == 0, \"Survived_predicted\"] = \"Dead\"\r\n",
    "test_data.loc[test_data[\"Survived_predicted\"] == 1, \"Survived_predicted\"] = \"Alive\"\r\n",
    "test_data[\"Survived_predicted\"].value_counts()"
   ],
   "outputs": [],
   "metadata": {}
  },
  {
   "cell_type": "code",
   "execution_count": null,
   "source": [
    "# Export to .CSV\r\n",
    "test_to_csv(filename, test, test_data)"
   ],
   "outputs": [],
   "metadata": {}
  },
  {
   "cell_type": "markdown",
   "source": [
    "## (Optional) Try adding some higher order features to your training"
   ],
   "metadata": {}
  },
  {
   "cell_type": "code",
   "execution_count": null,
   "source": [
    "# Declare variable\r\n",
    "filename = \"Question2\"\r\n",
    "feature = [\"Constant\", \"Pclass\", \"Sex\", \"Age\", \"Embarked\", \"Pclass_2\", \"Sex_2\", \"Age_2\", \"Embarked_2\"]\r\n",
    "data = np.array(train_data[feature])\r\n",
    "y = np.array(train_data[\"Survived\"])\r\n",
    "theta = np.array([0 for i in range(len(data[0]))])"
   ],
   "outputs": [],
   "metadata": {}
  },
  {
   "cell_type": "code",
   "execution_count": null,
   "source": [
    "theta = iteration(iter, theta, data)\r\n",
    "prediction(feature, train_data, theta)"
   ],
   "outputs": [],
   "metadata": {}
  },
  {
   "cell_type": "code",
   "execution_count": null,
   "source": [
    "# result from training data\r\n",
    "train_data[\"result\"] = (train_data[\"Survived_predicted\"] == train_data[\"Survived\"])\r\n",
    "train_data[[\"Survived\", \"Survived_predicted\", \"result\"]]\r\n",
    "prediced_result = train_data[\"result\"].value_counts()\r\n",
    "accuracy = prediced_result[True] * 100 /(prediced_result[True] + prediced_result[False])\r\n",
    "print(f\"Accuracy : {accuracy}%\")"
   ],
   "outputs": [],
   "metadata": {}
  },
  {
   "cell_type": "code",
   "execution_count": null,
   "source": [
    "# predict test data\r\n",
    "prediction(feature, test_data, theta)\r\n",
    "test_data.loc[test_data[\"Survived_predicted\"] == 0, \"Survived_predicted\"] = \"Dead\"\r\n",
    "test_data.loc[test_data[\"Survived_predicted\"] == 1, \"Survived_predicted\"] = \"Alive\"\r\n",
    "test_data[\"Survived_predicted\"].value_counts()"
   ],
   "outputs": [],
   "metadata": {}
  },
  {
   "cell_type": "code",
   "execution_count": null,
   "source": [
    "# Export to .CSV\r\n",
    "test_to_csv(filename, test, test_data)"
   ],
   "outputs": [],
   "metadata": {}
  },
  {
   "cell_type": "markdown",
   "source": [
    "## (Optional) What happens if you reduce the amount of features to just Sex and Age?"
   ],
   "metadata": {}
  },
  {
   "cell_type": "code",
   "execution_count": null,
   "source": [
    "# Declare variable\r\n",
    "filename = \"Question3\"\r\n",
    "feature = [\"Constant\", \"Sex\", \"Age\"]\r\n",
    "data = np.array(train_data[feature])\r\n",
    "y = np.array(train_data[\"Survived\"])\r\n",
    "theta = np.array([0 for i in range(len(data[0]))])"
   ],
   "outputs": [],
   "metadata": {}
  },
  {
   "cell_type": "code",
   "execution_count": null,
   "source": [
    "theta = iteration(iter, theta, data)\r\n",
    "prediction(feature, train_data, theta)"
   ],
   "outputs": [],
   "metadata": {}
  },
  {
   "cell_type": "code",
   "execution_count": null,
   "source": [
    "# result from training data\r\n",
    "train_data[\"result\"] = (train_data[\"Survived_predicted\"] == train_data[\"Survived\"])\r\n",
    "train_data[[\"Survived\", \"Survived_predicted\", \"result\"]]\r\n",
    "prediced_result = train_data[\"result\"].value_counts()\r\n",
    "accuracy = prediced_result[True] * 100 /(prediced_result[True] + prediced_result[False])\r\n",
    "print(f\"Accuracy : {accuracy}%\")"
   ],
   "outputs": [],
   "metadata": {}
  },
  {
   "cell_type": "code",
   "execution_count": null,
   "source": [
    "# predict test data\r\n",
    "prediction(feature, test_data, theta)\r\n",
    "test_data.loc[test_data[\"Survived_predicted\"] == 0, \"Survived_predicted\"] = \"Dead\"\r\n",
    "test_data.loc[test_data[\"Survived_predicted\"] == 1, \"Survived_predicted\"] = \"Alive\"\r\n",
    "test_data[\"Survived_predicted\"].value_counts()"
   ],
   "outputs": [],
   "metadata": {}
  },
  {
   "cell_type": "code",
   "execution_count": null,
   "source": [
    "# Export to .CSV\r\n",
    "test_to_csv(filename, test, test_data)"
   ],
   "outputs": [],
   "metadata": {}
  }
 ],
 "metadata": {
  "orig_nbformat": 4,
  "language_info": {
   "name": "python",
   "version": "3.8.10",
   "mimetype": "text/x-python",
   "codemirror_mode": {
    "name": "ipython",
    "version": 3
   },
   "pygments_lexer": "ipython3",
   "nbconvert_exporter": "python",
   "file_extension": ".py"
  },
  "kernelspec": {
   "name": "python3",
   "display_name": "Python 3.8.10 64-bit"
  },
  "interpreter": {
   "hash": "19dee9572536413c0bdf4646039cf15f674a64e95912da87c32b34734a7fdd1f"
  }
 },
 "nbformat": 4,
 "nbformat_minor": 2
}