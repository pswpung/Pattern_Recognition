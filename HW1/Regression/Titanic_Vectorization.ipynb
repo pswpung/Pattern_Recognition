{
 "cells": [
  {
   "cell_type": "markdown",
   "source": [
    "## My heart will go on\r\n",
    "In this part of the exercise we will work on the Titanic dataset provided by Kaggle. The Titanic dataset contains information of the passengers boarding the Titanic on its final voyage. We will work on predicting whether a given passenger will survive the trip."
   ],
   "metadata": {}
  },
  {
   "cell_type": "markdown",
   "source": [
    "## Import Packages"
   ],
   "metadata": {}
  },
  {
   "cell_type": "code",
   "execution_count": 204,
   "source": [
    "import pandas as pd\r\n",
    "import numpy as np\r\n",
    "import math\r\n",
    "from sklearn import datasets, linear_model"
   ],
   "outputs": [],
   "metadata": {}
  },
  {
   "cell_type": "markdown",
   "source": [
    "## Declare Variable"
   ],
   "metadata": {}
  },
  {
   "cell_type": "code",
   "execution_count": null,
   "source": [
    "# Declare Variable\r\n",
    "lr = 0.001\r\n",
    "iter = 7500"
   ],
   "outputs": [],
   "metadata": {}
  },
  {
   "cell_type": "markdown",
   "source": [
    "## Prepare Data"
   ],
   "metadata": {}
  },
  {
   "cell_type": "code",
   "execution_count": 205,
   "source": [
    "#training set\r\n",
    "train_url = \"http://s3.amazonaws.com/assets.datacamp.com/course/Kaggle/train.csv\"\r\n",
    "train = pd.read_csv(train_url)\r\n",
    "train[\"Age\"] = train[\"Age\"].fillna(train[\"Age\"].median())\r\n",
    "train.loc[train[\"Embarked\"] == \"S\", \"Embarked\"] = 0\r\n",
    "train.loc[train[\"Embarked\"] == \"C\", \"Embarked\"] = 1\r\n",
    "train.loc[train[\"Embarked\"] == \"Q\", \"Embarked\"] = 2\r\n",
    "train.loc[train[\"Sex\"] == \"male\", \"Sex\"] = 0\r\n",
    "train.loc[train[\"Sex\"] == \"female\", \"Sex\"] = 1\r\n",
    "train.isna().sum()"
   ],
   "outputs": [
    {
     "output_type": "execute_result",
     "data": {
      "text/plain": [
       "PassengerId      0\n",
       "Survived         0\n",
       "Pclass           0\n",
       "Name             0\n",
       "Sex              0\n",
       "Age              0\n",
       "SibSp            0\n",
       "Parch            0\n",
       "Ticket           0\n",
       "Fare             0\n",
       "Cabin          687\n",
       "Embarked         2\n",
       "dtype: int64"
      ]
     },
     "metadata": {},
     "execution_count": 205
    }
   ],
   "metadata": {}
  },
  {
   "cell_type": "code",
   "execution_count": 206,
   "source": [
    "train[\"Embarked\"] = train[\"Embarked\"].fillna(train[\"Embarked\"].median())"
   ],
   "outputs": [],
   "metadata": {}
  },
  {
   "cell_type": "code",
   "execution_count": 207,
   "source": [
    "train.isna().sum()"
   ],
   "outputs": [
    {
     "output_type": "execute_result",
     "data": {
      "text/plain": [
       "PassengerId      0\n",
       "Survived         0\n",
       "Pclass           0\n",
       "Name             0\n",
       "Sex              0\n",
       "Age              0\n",
       "SibSp            0\n",
       "Parch            0\n",
       "Ticket           0\n",
       "Fare             0\n",
       "Cabin          687\n",
       "Embarked         0\n",
       "dtype: int64"
      ]
     },
     "metadata": {},
     "execution_count": 207
    }
   ],
   "metadata": {}
  },
  {
   "cell_type": "code",
   "execution_count": 208,
   "source": [
    "#test set\r\n",
    "test_url = \"http://s3.amazonaws.com/assets.datacamp.com/course/Kaggle/test.csv\"\r\n",
    "test = pd.read_csv(test_url) \r\n",
    "test[\"Constant\"] = 1\r\n",
    "test[\"Age\"] = test[\"Age\"].fillna(test[\"Age\"].median())\r\n",
    "test.loc[test[\"Embarked\"] == \"S\", \"Embarked\"] = 0\r\n",
    "test.loc[test[\"Embarked\"] == \"C\", \"Embarked\"] = 1\r\n",
    "test.loc[test[\"Embarked\"] == \"Q\", \"Embarked\"] = 2\r\n",
    "test.loc[test[\"Sex\"] == \"male\", \"Sex\"] = 0\r\n",
    "test.loc[test[\"Sex\"] == \"female\", \"Sex\"] = 1\r\n",
    "test.isna().sum()"
   ],
   "outputs": [
    {
     "output_type": "execute_result",
     "data": {
      "text/plain": [
       "PassengerId      0\n",
       "Pclass           0\n",
       "Name             0\n",
       "Sex              0\n",
       "Age              0\n",
       "SibSp            0\n",
       "Parch            0\n",
       "Ticket           0\n",
       "Fare             1\n",
       "Cabin          327\n",
       "Embarked         0\n",
       "Constant         0\n",
       "dtype: int64"
      ]
     },
     "metadata": {},
     "execution_count": 208
    }
   ],
   "metadata": {}
  },
  {
   "cell_type": "code",
   "execution_count": 209,
   "source": [
    "# Explore data before scaling Age\r\n",
    "print(f\"Max train age : {max(train['Age'])}\")\r\n",
    "print(f\"Max test age : {max(test['Age'])}\"\"\")"
   ],
   "outputs": [
    {
     "output_type": "stream",
     "name": "stdout",
     "text": [
      "Max train age : 80.0\n",
      "Max test age : 76.0\n"
     ]
    }
   ],
   "metadata": {}
  },
  {
   "cell_type": "code",
   "execution_count": 210,
   "source": [
    "# Normalize data\r\n",
    "train_data = pd.DataFrame()\r\n",
    "test_data = pd.DataFrame()\r\n",
    "for i in train.columns:\r\n",
    "    if i in (\"Pclass\", \"Age\", \"Embarked\"):\r\n",
    "        train_min = min(train[i])\r\n",
    "        train_max = max(train[i])\r\n",
    "        train_data[i] = (train[i] - train_min)/(train_max - train_min)\r\n",
    "        test_data[i] = (test[i] - train_min)/(train_max - train_min)\r\n",
    "\r\n",
    "train_data[\"Survived\"] = train[\"Survived\"]\r\n",
    "train_data[\"Sex\"] = train[\"Sex\"]\r\n",
    "train_data[\"Constant\"] = 1\r\n",
    "train_data[\"Pclass_2\"] = train_data[\"Pclass\"]**2\r\n",
    "train_data[\"Sex_2\"] = train_data[\"Sex\"]**2\r\n",
    "train_data[\"Age_2\"] = train_data[\"Age\"]**2\r\n",
    "train_data[\"Embarked_2\"] = train_data[\"Embarked\"]**2\r\n",
    "\r\n",
    "test_data[\"Sex\"] = test[\"Sex\"]\r\n",
    "test_data[\"Constant\"] = 1\r\n",
    "test_data[\"Pclass_2\"] = test_data[\"Pclass\"]**2\r\n",
    "test_data[\"Sex_2\"] = test_data[\"Sex\"]**2\r\n",
    "test_data[\"Age_2\"] = test_data[\"Age\"]**2\r\n",
    "test_data[\"Embarked_2\"] = test_data[\"Embarked\"]**2"
   ],
   "outputs": [],
   "metadata": {}
  },
  {
   "cell_type": "code",
   "execution_count": null,
   "source": [],
   "outputs": [],
   "metadata": {}
  },
  {
   "cell_type": "markdown",
   "source": [
    "## define function"
   ],
   "metadata": {}
  },
  {
   "cell_type": "code",
   "execution_count": 211,
   "source": [
    "# iteration to find theta\r\n",
    "def iteration(iter, lr, feature, y, theta, data):\r\n",
    "    for round in range(iter):\r\n",
    "        lin = theta.dot(data)\r\n",
    "        # print(lin)\r\n",
    "        g = 1/(1 + math.e ** (-lin)) \r\n",
    "        sum_data = ((y - g) * data).sum(axis = 1)\r\n",
    "        theta = theta + lr * sum_data\r\n",
    "    for i in range(len(theta)):\r\n",
    "        print(f\"theta_{i}(feature : {feature[i]}) : {theta[i]}\")\r\n",
    "    return theta"
   ],
   "outputs": [],
   "metadata": {}
  },
  {
   "cell_type": "code",
   "execution_count": 212,
   "source": [
    "def prediction(feature, dataset, theta):\r\n",
    "    data = np.array(dataset[feature]).transpose()\r\n",
    "    predict = theta * data\r\n",
    "    predict = 1/(1+math.e ** (-predict.sum(axis = 0)))\r\n",
    "    predicted = np.where(predict<=0.5,0,1)\r\n",
    "    dataset[\"Survived_predicted\"] = predicted"
   ],
   "outputs": [],
   "metadata": {}
  },
  {
   "cell_type": "code",
   "execution_count": 213,
   "source": [
    "def test_to_csv(filename, test, test_data):\r\n",
    "    # Export to CSV\r\n",
    "    filepath = \"./\" + filename +\".csv\"\r\n",
    "    Question = test[[\"PassengerId\", \"Name\", \"Sex\", \"Age\"]]\r\n",
    "    Question.loc[Question[\"Sex\"] == 0, \"Sex\"] = \"male\"\r\n",
    "    Question.loc[Question[\"Sex\"] == 1, \"Sex\"] = \"female\"\r\n",
    "    Question[\"Survived\"] = test_data[\"Survived_predicted\"]\r\n",
    "    Question.to_csv(filepath, index = False)"
   ],
   "outputs": [],
   "metadata": {}
  },
  {
   "cell_type": "markdown",
   "source": [
    "## Prediction with 4 features [\"Pclass\", \"Sex\", \"Age\", \"Embarked\"]"
   ],
   "metadata": {}
  },
  {
   "cell_type": "code",
   "execution_count": 214,
   "source": [
    "# Declare variable\r\n",
    "filename = \"Question1_Vectorization\"\r\n",
    "feature = [\"Constant\", \"Pclass\", \"Sex\", \"Age\", \"Embarked\"]\r\n",
    "data = np.array(train_data[feature]).transpose()\r\n",
    "y = np.array(train_data[\"Survived\"]).reshape((1,data.shape[1]))\r\n",
    "theta = np.array([0 for i in range(len(data))])\r\n"
   ],
   "outputs": [],
   "metadata": {}
  },
  {
   "cell_type": "code",
   "execution_count": 215,
   "source": [
    "theta = iteration(iter, lr, feature, y, theta, data)\r\n",
    "theta = theta.reshape(5,1)\r\n",
    "prediction(feature, train_data, theta)"
   ],
   "outputs": [
    {
     "output_type": "stream",
     "name": "stdout",
     "text": [
      "theta_0(feature : Constant) : -0.2012361307345755\n",
      "theta_1(feature : Pclass) : -1.7764799868890386\n",
      "theta_2(feature : Sex) : 2.475546797793185\n",
      "theta_3(feature : Age) : -0.6440942872712742\n",
      "theta_4(feature : Embarked) : 0.4777285173478564\n"
     ]
    }
   ],
   "metadata": {}
  },
  {
   "cell_type": "code",
   "execution_count": 216,
   "source": [
    "# result from training data\r\n",
    "train_data[\"result\"] = (train_data[\"Survived_predicted\"] == train_data[\"Survived\"])\r\n",
    "train_data[[\"Survived\", \"Survived_predicted\", \"result\"]]\r\n",
    "prediced_result = train_data[\"result\"].value_counts()\r\n",
    "accuracy = prediced_result[True] * 100 /(prediced_result[True] + prediced_result[False])\r\n",
    "print(f\"Accuracy : {accuracy}%\")"
   ],
   "outputs": [
    {
     "output_type": "stream",
     "name": "stdout",
     "text": [
      "Accuracy : 78.56341189674524%\n"
     ]
    }
   ],
   "metadata": {}
  },
  {
   "cell_type": "code",
   "execution_count": 217,
   "source": [
    "# predict test data\r\n",
    "prediction(feature, test_data, theta)\r\n",
    "test_data.loc[test_data[\"Survived_predicted\"] == 0, \"Survived_predicted\"] = \"Dead\"\r\n",
    "test_data.loc[test_data[\"Survived_predicted\"] == 1, \"Survived_predicted\"] = \"Alive\"\r\n",
    "test_data[\"Survived_predicted\"].value_counts()"
   ],
   "outputs": [
    {
     "output_type": "execute_result",
     "data": {
      "text/plain": [
       "Dead     266\n",
       "Alive    152\n",
       "Name: Survived_predicted, dtype: int64"
      ]
     },
     "metadata": {},
     "execution_count": 217
    }
   ],
   "metadata": {}
  },
  {
   "cell_type": "code",
   "execution_count": 218,
   "source": [
    "# Export to .CSV\r\n",
    "test_to_csv(filename, test, test_data)"
   ],
   "outputs": [
    {
     "output_type": "stream",
     "name": "stderr",
     "text": [
      "C:\\Users\\pswpu\\AppData\\Local\\Programs\\Python\\Python38\\lib\\site-packages\\pandas\\core\\indexing.py:1817: SettingWithCopyWarning: \n",
      "A value is trying to be set on a copy of a slice from a DataFrame.\n",
      "Try using .loc[row_indexer,col_indexer] = value instead\n",
      "\n",
      "See the caveats in the documentation: https://pandas.pydata.org/pandas-docs/stable/user_guide/indexing.html#returning-a-view-versus-a-copy\n",
      "  self._setitem_single_column(loc, value, pi)\n",
      "C:\\Users\\pswpu\\AppData\\Local\\Programs\\Python\\Python38\\lib\\site-packages\\pandas\\core\\frame.py:3607: SettingWithCopyWarning: \n",
      "A value is trying to be set on a copy of a slice from a DataFrame.\n",
      "Try using .loc[row_indexer,col_indexer] = value instead\n",
      "\n",
      "See the caveats in the documentation: https://pandas.pydata.org/pandas-docs/stable/user_guide/indexing.html#returning-a-view-versus-a-copy\n",
      "  self._set_item(key, value)\n"
     ]
    }
   ],
   "metadata": {}
  },
  {
   "cell_type": "markdown",
   "source": [
    "## (Optional) Try adding some higher order features to your training"
   ],
   "metadata": {}
  },
  {
   "cell_type": "code",
   "execution_count": 230,
   "source": [
    "# Declare variable\r\n",
    "filename = \"Question2_Vectorization\"\r\n",
    "feature = [\"Constant\", \"Pclass\", \"Sex\", \"Age\", \"Embarked\", \"Pclass_2\", \"Sex_2\", \"Age_2\", \"Embarked_2\"]\r\n",
    "data = np.array(train_data[feature]).transpose()\r\n",
    "y = np.array(train_data[\"Survived\"]).reshape((1,data.shape[1]))\r\n",
    "theta = np.array([0 for i in range(len(data))])"
   ],
   "outputs": [],
   "metadata": {}
  },
  {
   "cell_type": "code",
   "execution_count": 231,
   "source": [
    "theta = iteration(iter, lr, feature, y, theta, data)\r\n",
    "theta = theta.reshape((9,1))\r\n",
    "prediction(feature, train_data, theta)"
   ],
   "outputs": [
    {
     "output_type": "stream",
     "name": "stdout",
     "text": [
      "theta_0(feature : Constant) : 0.7857136307788849\n",
      "theta_1(feature : Pclass) : -1.5047932434984554\n",
      "theta_2(feature : Sex) : 1.2886062762134265\n",
      "theta_3(feature : Age) : -3.385911086579276\n",
      "theta_4(feature : Embarked) : 1.5579246619388971\n",
      "theta_5(feature : Pclass_2) : -0.7638753199346533\n",
      "theta_6(feature : Sex_2) : 1.2886062762134265\n",
      "theta_7(feature : Age_2) : 1.1082708253532785\n",
      "theta_8(feature : Embarked_2) : -1.008220086612889\n"
     ]
    }
   ],
   "metadata": {}
  },
  {
   "cell_type": "code",
   "execution_count": 232,
   "source": [
    "# result from training data\r\n",
    "train_data[\"result\"] = (train_data[\"Survived_predicted\"] == train_data[\"Survived\"])\r\n",
    "train_data[[\"Survived\", \"Survived_predicted\", \"result\"]]\r\n",
    "prediced_result = train_data[\"result\"].value_counts()\r\n",
    "accuracy = prediced_result[True] * 100 /(prediced_result[True] + prediced_result[False])\r\n",
    "print(f\"Accuracy : {accuracy}%\")"
   ],
   "outputs": [
    {
     "output_type": "stream",
     "name": "stdout",
     "text": [
      "Accuracy : 79.34904601571269%\n"
     ]
    }
   ],
   "metadata": {}
  },
  {
   "cell_type": "code",
   "execution_count": 233,
   "source": [
    "# predict test data\r\n",
    "prediction(feature, test_data, theta)\r\n",
    "test_data.loc[test_data[\"Survived_predicted\"] == 0, \"Survived_predicted\"] = \"Dead\"\r\n",
    "test_data.loc[test_data[\"Survived_predicted\"] == 1, \"Survived_predicted\"] = \"Alive\"\r\n",
    "test_data[\"Survived_predicted\"].value_counts()"
   ],
   "outputs": [
    {
     "output_type": "execute_result",
     "data": {
      "text/plain": [
       "Dead     261\n",
       "Alive    157\n",
       "Name: Survived_predicted, dtype: int64"
      ]
     },
     "metadata": {},
     "execution_count": 233
    }
   ],
   "metadata": {}
  },
  {
   "cell_type": "code",
   "execution_count": 234,
   "source": [
    "# Export to .CSV\r\n",
    "test_to_csv(filename, test, test_data)"
   ],
   "outputs": [],
   "metadata": {}
  },
  {
   "cell_type": "markdown",
   "source": [
    "## (Optional) What happens if you reduce the amount of features to just Sex and Age?"
   ],
   "metadata": {}
  },
  {
   "cell_type": "code",
   "execution_count": 248,
   "source": [
    "# Declare variable\r\n",
    "filename = \"Question3_Vectorization\"\r\n",
    "feature = [\"Constant\", \"Sex\", \"Age\"]\r\n",
    "data = np.array(train_data[feature]).transpose()\r\n",
    "y = np.array(train_data[\"Survived\"]).reshape((1,data.shape[1]))\r\n",
    "theta = np.array([0 for i in range(len(data))])"
   ],
   "outputs": [],
   "metadata": {}
  },
  {
   "cell_type": "code",
   "execution_count": 249,
   "source": [
    "theta = iteration(iter, lr, feature, y, theta, data)\r\n",
    "theta = theta.reshape(3,1)\r\n",
    "prediction(feature, train_data, theta)"
   ],
   "outputs": [
    {
     "output_type": "stream",
     "name": "stdout",
     "text": [
      "theta_0(feature : Constant) : -1.3174995712370055\n",
      "theta_1(feature : Sex) : 2.505313792611764\n",
      "theta_2(feature : Age) : -0.3770187569810276\n"
     ]
    }
   ],
   "metadata": {}
  },
  {
   "cell_type": "code",
   "execution_count": 250,
   "source": [
    "# result from training data\r\n",
    "train_data[\"result\"] = (train_data[\"Survived_predicted\"] == train_data[\"Survived\"])\r\n",
    "train_data[[\"Survived\", \"Survived_predicted\", \"result\"]]\r\n",
    "prediced_result = train_data[\"result\"].value_counts()\r\n",
    "accuracy = prediced_result[True] * 100 /(prediced_result[True] + prediced_result[False])\r\n",
    "print(f\"Accuracy : {accuracy}%\")"
   ],
   "outputs": [
    {
     "output_type": "stream",
     "name": "stdout",
     "text": [
      "Accuracy : 78.67564534231201%\n"
     ]
    }
   ],
   "metadata": {}
  },
  {
   "cell_type": "code",
   "execution_count": 251,
   "source": [
    "# predict test data\r\n",
    "prediction(feature, test_data, theta)\r\n",
    "test_data.loc[test_data[\"Survived_predicted\"] == 0, \"Survived_predicted\"] = \"Dead\"\r\n",
    "test_data.loc[test_data[\"Survived_predicted\"] == 1, \"Survived_predicted\"] = \"Alive\"\r\n",
    "test_data[\"Survived_predicted\"].value_counts()"
   ],
   "outputs": [
    {
     "output_type": "execute_result",
     "data": {
      "text/plain": [
       "Dead     266\n",
       "Alive    152\n",
       "Name: Survived_predicted, dtype: int64"
      ]
     },
     "metadata": {},
     "execution_count": 251
    }
   ],
   "metadata": {}
  },
  {
   "cell_type": "code",
   "execution_count": 252,
   "source": [
    "# Export to .CSV\r\n",
    "test_to_csv(filename, test, test_data)"
   ],
   "outputs": [],
   "metadata": {}
  },
  {
   "cell_type": "code",
   "execution_count": null,
   "source": [],
   "outputs": [],
   "metadata": {}
  }
 ],
 "metadata": {
  "orig_nbformat": 4,
  "language_info": {
   "name": "python",
   "version": "3.8.10",
   "mimetype": "text/x-python",
   "codemirror_mode": {
    "name": "ipython",
    "version": 3
   },
   "pygments_lexer": "ipython3",
   "nbconvert_exporter": "python",
   "file_extension": ".py"
  },
  "kernelspec": {
   "name": "python3",
   "display_name": "Python 3.8.10 64-bit"
  },
  "interpreter": {
   "hash": "19dee9572536413c0bdf4646039cf15f674a64e95912da87c32b34734a7fdd1f"
  }
 },
 "nbformat": 4,
 "nbformat_minor": 2
}