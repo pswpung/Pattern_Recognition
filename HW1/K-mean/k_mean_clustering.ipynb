{
 "metadata": {
  "language_info": {
   "codemirror_mode": {
    "name": "ipython",
    "version": 3
   },
   "file_extension": ".py",
   "mimetype": "text/x-python",
   "name": "python",
   "nbconvert_exporter": "python",
   "pygments_lexer": "ipython3",
   "version": "3.8.10"
  },
  "orig_nbformat": 4,
  "kernelspec": {
   "name": "python3",
   "display_name": "Python 3.8.10 64-bit"
  },
  "interpreter": {
   "hash": "19dee9572536413c0bdf4646039cf15f674a64e95912da87c32b34734a7fdd1f"
  }
 },
 "nbformat": 4,
 "nbformat_minor": 2,
 "cells": [
  {
   "cell_type": "markdown",
   "source": [
    "## Import Packages"
   ],
   "metadata": {}
  },
  {
   "cell_type": "code",
   "execution_count": 68,
   "source": [
    "import pandas as pd\r\n",
    "import numpy as np\r\n",
    "import matplotlib.pyplot as plt"
   ],
   "outputs": [],
   "metadata": {}
  },
  {
   "cell_type": "markdown",
   "source": [
    "## Read Rew Data"
   ],
   "metadata": {}
  },
  {
   "cell_type": "code",
   "execution_count": 69,
   "source": [
    "df = pd.read_csv(\"raw_data.csv\")"
   ],
   "outputs": [],
   "metadata": {}
  },
  {
   "cell_type": "markdown",
   "source": [
    "## Define Function"
   ],
   "metadata": {}
  },
  {
   "cell_type": "code",
   "execution_count": 70,
   "source": [
    "def get_distance(df, centoid):\r\n",
    "    return list(round(np.sqrt((df['x'] - centoid['x'])**2 + (df['y'] - centoid['y'])**2),2))"
   ],
   "outputs": [],
   "metadata": {}
  },
  {
   "cell_type": "code",
   "execution_count": 71,
   "source": [
    "def group_data(distance_1: list, distance_2: list, distance_3: list) -> list:\r\n",
    "    group: list = []\r\n",
    "    for i in range(len(distance_1)):\r\n",
    "            check_min: float = min(distance_1[i], distance_2[i], distance_3[i])\r\n",
    "            if check_min == distance_1[i]:\r\n",
    "                group.append(\"1\")\r\n",
    "            elif check_min == distance_2[i]:\r\n",
    "                group.append(\"2\")\r\n",
    "            elif check_min == distance_3[i]:\r\n",
    "                group.append(\"3\")\r\n",
    "    return group"
   ],
   "outputs": [],
   "metadata": {}
  },
  {
   "cell_type": "code",
   "execution_count": 72,
   "source": [
    "def calculate_centoid(iter: int,group: list) -> None:\r\n",
    "    new_centoid_x,  new_centoid_y = [], []\r\n",
    "    for n in range(1, 4, 1):\r\n",
    "        sum_x, sum_y = [], []\r\n",
    "        for i in range(len(group)):\r\n",
    "            if group[i] == str(n):\r\n",
    "                sum_x.append(df['x'][i])\r\n",
    "                sum_y.append(df['y'][i])   \r\n",
    "        average_x = round(sum(sum_x)/len(sum_x), 2)\r\n",
    "        average_y = round(sum(sum_y)/len(sum_y), 2)\r\n",
    "        new_centoid_x.append(average_x)\r\n",
    "        new_centoid_y.append(average_y)\r\n",
    "    centoid_1['x'] = new_centoid_x[0]\r\n",
    "    centoid_1['y'] = new_centoid_y[0]\r\n",
    "    centoid_2['x'] = new_centoid_x[1]\r\n",
    "    centoid_2['y'] = new_centoid_y[1]\r\n",
    "    centoid_3['x'] = new_centoid_x[2]\r\n",
    "    centoid_3['y'] = new_centoid_y[2]\r\n",
    "    iteration_x[iter] = new_centoid_x\r\n",
    "    iteration_y[iter] = new_centoid_y"
   ],
   "outputs": [],
   "metadata": {}
  },
  {
   "cell_type": "code",
   "execution_count": 85,
   "source": [
    "def plot_group(iter, group, df):\r\n",
    "    title = \"iteration : \" + str(iter)\r\n",
    "    plt.title(title)\r\n",
    "    plt.grid()\r\n",
    "    group_color = {\"1\":\"red\", \"2\":\"green\", \"3\":\"blue\"}\r\n",
    "    for i in range(len(group)):\r\n",
    "        plt.scatter(df[\"x\"][i],df[\"y\"][i], alpha=0.5, c=group_color[group[i]])\r\n",
    "    plt.scatter(centoid_1[\"x\"], centoid_1[\"y\"], c=\"black\", marker=\"D\")\r\n",
    "    plt.scatter(centoid_2[\"x\"], centoid_2[\"y\"], c=\"black\", marker=\"D\")\r\n",
    "    plt.scatter(centoid_3[\"x\"], centoid_3[\"y\"], c=\"black\", marker=\"D\")\r\n",
    "    plt.xlabel(\"X\")\r\n",
    "    plt.ylabel(\"Y\")\r\n",
    "    plt.show()"
   ],
   "outputs": [],
   "metadata": {}
  },
  {
   "cell_type": "markdown",
   "source": [
    "## K-mean Clustering"
   ],
   "metadata": {}
  },
  {
   "cell_type": "markdown",
   "source": [
    "### Question 1"
   ],
   "metadata": {}
  },
  {
   "cell_type": "code",
   "execution_count": 86,
   "source": [
    "iteration_number: int = 3\r\n",
    "iteration_x= pd.DataFrame()\r\n",
    "iteration_y= pd.DataFrame()\r\n",
    "\r\n",
    "centoid_1: list = {'x': 3, 'y': 3}\r\n",
    "centoid_2: list = {'x': 2, 'y': 2}\r\n",
    "centoid_3: list = {'x': -3, 'y': 3}\r\n",
    "\r\n",
    "for iter in range(iteration_number):\r\n",
    "    # calculate distance between data and each centoid\r\n",
    "    distance_1: list = get_distance(df, centoid_1)\r\n",
    "    distance_2: list = get_distance(df, centoid_2)\r\n",
    "    distance_3: list = get_distance(df, centoid_3)\r\n",
    "    # group a data to the nearest centoid\r\n",
    "    group = group_data(distance_1, distance_2, distance_3)\r\n",
    "    # scatter plot k_mean vs data\r\n",
    "    plot_group(iter, group, df)\r\n",
    "    # calculate mean of x,y of each group and set it as newcentoid\r\n",
    "    calculate_centoid(iter,group)\r\n",
    "plot_group(\"final answer\", group, df)"
   ],
   "outputs": [
    {
     "output_type": "display_data",
     "data": {
      "text/plain": [
       "<Figure size 432x288 with 1 Axes>"
      ],
      "image/png": "[encoded data removed]"
     },
     "metadata": {
      "needs_background": "light"
     }
    },
    {
     "output_type": "display_data",
     "data": {
      "text/plain": [
       "<Figure size 432x288 with 1 Axes>"
      ],
      "image/png": "[encoded data removed]"
     },
     "metadata": {
      "needs_background": "light"
     }
    },
    {
     "output_type": "display_data",
     "data": {
      "text/plain": [
       "<Figure size 432x288 with 1 Axes>"
      ],
      "image/png": "[encoded data removed]"
     },
     "metadata": {
      "needs_background": "light"
     }
    },
    {
     "output_type": "display_data",
     "data": {
      "text/plain": [
       "<Figure size 432x288 with 1 Axes>"
      ],
      "image/png": "[encoded data removed]"
     },
     "metadata": {
      "needs_background": "light"
     }
    }
   ],
   "metadata": {}
  },
  {
   "cell_type": "code",
   "execution_count": 87,
   "source": [
    "print(f\"centoid 1: ({iteration_x[iteration_number-1][0]}, {iteration_y[iteration_number-1][0]})\")\r\n",
    "print(f\"centoid 2: ({iteration_x[iteration_number-1][1]}, {iteration_y[iteration_number-1][1]})\")\r\n",
    "print(f\"centoid 3: ({iteration_x[iteration_number-1][2]}, {iteration_y[iteration_number-1][2]})\")"
   ],
   "outputs": [
    {
     "output_type": "stream",
     "name": "stdout",
     "text": [
      "centoid 1: (7.0, 7.0)\n",
      "centoid 2: (2.0, 2.33)\n",
      "centoid 3: (-4.0, -4.67)\n"
     ]
    }
   ],
   "metadata": {}
  },
  {
   "cell_type": "markdown",
   "source": [
    "### Question 2"
   ],
   "metadata": {}
  },
  {
   "cell_type": "code",
   "execution_count": null,
   "source": [
    "iteration_number: int = 3\r\n",
    "iteration_x= pd.DataFrame()\r\n",
    "iteration_y= pd.DataFrame()\r\n",
    "\r\n",
    "centoid_1: list = {'x': -3, 'y': -3}\r\n",
    "centoid_2: list = {'x': 2, 'y': 2}\r\n",
    "centoid_3: list = {'x': -7, 'y': -7}\r\n",
    "\r\n",
    "for iter in range(iteration_number):\r\n",
    "    # calculate distance between data and each centoid\r\n",
    "    distance_1: list = get_distance(df, centoid_1)\r\n",
    "    distance_2: list = get_distance(df, centoid_2)\r\n",
    "    distance_3: list = get_distance(df, centoid_3)\r\n",
    "    # group a data to the nearest centoid\r\n",
    "    group = group_data(distance_1, distance_2, distance_3)\r\n",
    "    # scatter plot k_mean vs data\r\n",
    "    plot_group(iter, group, df)\r\n",
    "    # calculate mean of x,y of each group and set it as newcentoid\r\n",
    "    calculate_centoid(iter,group)\r\n",
    "plot_group(\"final answer\", group, df)"
   ],
   "outputs": [],
   "metadata": {}
  },
  {
   "cell_type": "code",
   "execution_count": null,
   "source": [
    "print(f\"centoid 1: ({iteration_x[iteration_number-1][0]}, {iteration_y[iteration_number-1][0]})\")\r\n",
    "print(f\"centoid 2: ({iteration_x[iteration_number-1][1]}, {iteration_y[iteration_number-1][1]})\")\r\n",
    "print(f\"centoid 3: ({iteration_x[iteration_number-1][2]}, {iteration_y[iteration_number-1][2]})\")"
   ],
   "outputs": [],
   "metadata": {}
  }
 ]
}