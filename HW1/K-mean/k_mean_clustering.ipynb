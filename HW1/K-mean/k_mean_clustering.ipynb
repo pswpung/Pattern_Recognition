{
 "metadata": {
  "language_info": {
   "codemirror_mode": {
    "name": "ipython",
    "version": 3
   },
   "file_extension": ".py",
   "mimetype": "text/x-python",
   "name": "python",
   "nbconvert_exporter": "python",
   "pygments_lexer": "ipython3",
   "version": "3.8.10"
  },
  "orig_nbformat": 4,
  "kernelspec": {
   "name": "python3",
   "display_name": "Python 3.8.10 64-bit"
  },
  "interpreter": {
   "hash": "19dee9572536413c0bdf4646039cf15f674a64e95912da87c32b34734a7fdd1f"
  }
 },
 "nbformat": 4,
 "nbformat_minor": 2,
 "cells": [
  {
   "cell_type": "code",
   "execution_count": 101,
   "metadata": {},
   "outputs": [],
   "source": [
    "import pandas as pd\n",
    "import numpy as np"
   ]
  },
  {
   "cell_type": "code",
   "execution_count": 102,
   "metadata": {},
   "outputs": [],
   "source": [
    "def get_distance(df, centoid):\n",
    "    return list(round(np.sqrt((df['x'] - centoid['x'])**2 + (df['y'] - centoid['y'])**2),2))"
   ]
  },
  {
   "cell_type": "code",
   "execution_count": 103,
   "metadata": {},
   "outputs": [],
   "source": [
    "centoid_1: list = {'x': 3, 'y': 3}\n",
    "centoid_2: list = {'x': 2, 'y': 2}\n",
    "centoid_3: list = {'x': -3, 'y': 3}"
   ]
  },
  {
   "cell_type": "code",
   "execution_count": 104,
   "metadata": {},
   "outputs": [
    {
     "output_type": "execute_result",
     "data": {
      "text/plain": [
       "   x  y\n",
       "0  1  2\n",
       "1  3  3\n",
       "2  2  2\n",
       "3  8  8\n",
       "4  6  6\n",
       "5  7  7\n",
       "6 -3 -3\n",
       "7 -2 -4\n",
       "8 -7 -7"
      ],
      "text/html": "<div>\n<style scoped>\n    .dataframe tbody tr th:only-of-type {\n        vertical-align: middle;\n    }\n\n    .dataframe tbody tr th {\n        vertical-align: top;\n    }\n\n    .dataframe thead th {\n        text-align: right;\n    }\n</style>\n<table border=\"1\" class=\"dataframe\">\n  <thead>\n    <tr style=\"text-align: right;\">\n      <th></th>\n      <th>x</th>\n      <th>y</th>\n    </tr>\n  </thead>\n  <tbody>\n    <tr>\n      <th>0</th>\n      <td>1</td>\n      <td>2</td>\n    </tr>\n    <tr>\n      <th>1</th>\n      <td>3</td>\n      <td>3</td>\n    </tr>\n    <tr>\n      <th>2</th>\n      <td>2</td>\n      <td>2</td>\n    </tr>\n    <tr>\n      <th>3</th>\n      <td>8</td>\n      <td>8</td>\n    </tr>\n    <tr>\n      <th>4</th>\n      <td>6</td>\n      <td>6</td>\n    </tr>\n    <tr>\n      <th>5</th>\n      <td>7</td>\n      <td>7</td>\n    </tr>\n    <tr>\n      <th>6</th>\n      <td>-3</td>\n      <td>-3</td>\n    </tr>\n    <tr>\n      <th>7</th>\n      <td>-2</td>\n      <td>-4</td>\n    </tr>\n    <tr>\n      <th>8</th>\n      <td>-7</td>\n      <td>-7</td>\n    </tr>\n  </tbody>\n</table>\n</div>"
     },
     "metadata": {},
     "execution_count": 104
    }
   ],
   "source": [
    "df = pd.read_csv(\"raw_data.csv\")\n",
    "df"
   ]
  },
  {
   "cell_type": "code",
   "execution_count": 105,
   "metadata": {},
   "outputs": [
    {
     "output_type": "stream",
     "name": "stdout",
     "text": [
      "['2', '1', '2', '1', '1', '1', '3', '3', '3']\n"
     ]
    }
   ],
   "source": [
    "distance_1 = get_distance(df, centoid_1)\n",
    "distance_2 = get_distance(df, centoid_2)\n",
    "distance_3 = get_distance(df, centoid_3)\n",
    "group = []\n",
    "for i in range(len(distance_1)):\n",
    "    check_min = min(distance_1[i], distance_2[i], distance_3[i])\n",
    "    if check_min == distance_1[i]:\n",
    "        group.append(\"1\")\n",
    "    elif check_min == distance_2[i]:\n",
    "        group.append(\"2\")\n",
    "    elif check_min == distance_3[i]:\n",
    "        group.append(\"3\")\n",
    "print(group)"
   ]
  },
  {
   "cell_type": "code",
   "execution_count": 106,
   "metadata": {},
   "outputs": [
    {
     "output_type": "stream",
     "name": "stdout",
     "text": [
      "new centoid x : [6.0, 1.5, -4.0]\nnew centoid x : [6.0, 2.0, -4.67]\n{'x': 6.0, 'y': 6.0}\n{'x': 1.5, 'y': 2.0}\n{'x': -4.0, 'y': -4.67}\n"
     ]
    }
   ],
   "source": [
    "new_centoid_x,  new_centoid_y = [], []\n",
    "for n in range(1,4,1):\n",
    "    # print(n)\n",
    "    sum_x, sum_y = [], []\n",
    "    for i in range(len(group)):\n",
    "        if group[i] == str(n):\n",
    "            sum_x.append(df['x'][i])\n",
    "            sum_y.append(df['y'][i])   \n",
    "    # print(f\"sum_x : {sum_x}\")\n",
    "    # print(f\"sum_y : {sum_y}\")\n",
    "    average_x = round(sum(sum_x)/len(sum_x), 2)\n",
    "    average_y = round(sum(sum_y)/len(sum_y), 2)\n",
    "    # print(f\"average group {n} : ({average_x}, {average_y})\")\n",
    "    new_centoid_x.append(average_x)\n",
    "    new_centoid_y.append(average_y)\n",
    "print(f\"new centoid x : {new_centoid_x}\")\n",
    "print(f\"new centoid x : {new_centoid_y}\")\n",
    "centoid_1['x'] = new_centoid_x[0]\n",
    "centoid_1['y'] = new_centoid_y[0]\n",
    "centoid_2['x'] = new_centoid_x[1]\n",
    "centoid_2['y'] = new_centoid_y[1]\n",
    "centoid_3['x'] = new_centoid_x[2]\n",
    "centoid_3['y'] = new_centoid_y[2]\n",
    "print(centoid_1)\n",
    "print(centoid_2)\n",
    "print(centoid_3)\n",
    "iteration_x = pd.DataFrame()\n",
    "iteration_y = pd.DataFrame()\n",
    "iteration_x['1'] = new_centoid_x\n",
    "iteration_y['1'] = new_centoid_y"
   ]
  },
  {
   "cell_type": "code",
   "execution_count": 107,
   "metadata": {},
   "outputs": [
    {
     "output_type": "execute_result",
     "data": {
      "text/plain": [
       "     1\n",
       "0  6.0\n",
       "1  1.5\n",
       "2 -4.0"
      ],
      "text/html": "<div>\n<style scoped>\n    .dataframe tbody tr th:only-of-type {\n        vertical-align: middle;\n    }\n\n    .dataframe tbody tr th {\n        vertical-align: top;\n    }\n\n    .dataframe thead th {\n        text-align: right;\n    }\n</style>\n<table border=\"1\" class=\"dataframe\">\n  <thead>\n    <tr style=\"text-align: right;\">\n      <th></th>\n      <th>1</th>\n    </tr>\n  </thead>\n  <tbody>\n    <tr>\n      <th>0</th>\n      <td>6.0</td>\n    </tr>\n    <tr>\n      <th>1</th>\n      <td>1.5</td>\n    </tr>\n    <tr>\n      <th>2</th>\n      <td>-4.0</td>\n    </tr>\n  </tbody>\n</table>\n</div>"
     },
     "metadata": {},
     "execution_count": 107
    }
   ],
   "source": [
    "iteration_x"
   ]
  },
  {
   "cell_type": "code",
   "execution_count": 108,
   "metadata": {},
   "outputs": [
    {
     "output_type": "execute_result",
     "data": {
      "text/plain": [
       "      1\n",
       "0  6.00\n",
       "1  2.00\n",
       "2 -4.67"
      ],
      "text/html": "<div>\n<style scoped>\n    .dataframe tbody tr th:only-of-type {\n        vertical-align: middle;\n    }\n\n    .dataframe tbody tr th {\n        vertical-align: top;\n    }\n\n    .dataframe thead th {\n        text-align: right;\n    }\n</style>\n<table border=\"1\" class=\"dataframe\">\n  <thead>\n    <tr style=\"text-align: right;\">\n      <th></th>\n      <th>1</th>\n    </tr>\n  </thead>\n  <tbody>\n    <tr>\n      <th>0</th>\n      <td>6.00</td>\n    </tr>\n    <tr>\n      <th>1</th>\n      <td>2.00</td>\n    </tr>\n    <tr>\n      <th>2</th>\n      <td>-4.67</td>\n    </tr>\n  </tbody>\n</table>\n</div>"
     },
     "metadata": {},
     "execution_count": 108
    }
   ],
   "source": [
    "iteration_y"
   ]
  },
  {
   "cell_type": "code",
   "execution_count": 109,
   "metadata": {},
   "outputs": [
    {
     "output_type": "stream",
     "name": "stdout",
     "text": [
      "['2', '2', '2', '1', '1', '1', '3', '3', '3']\nnew centoid x : [7.0, 2.0, -4.0]\nnew centoid x : [7.0, 2.33, -4.67]\n{'x': 7.0, 'y': 7.0}\n{'x': 2.0, 'y': 2.33}\n{'x': -4.0, 'y': -4.67}\n"
     ]
    }
   ],
   "source": [
    "distance_1 = get_distance(df, centoid_1)\n",
    "distance_2 = get_distance(df, centoid_2)\n",
    "distance_3 = get_distance(df, centoid_3)\n",
    "group = []\n",
    "for i in range(len(distance_1)):\n",
    "    check_min = min(distance_1[i], distance_2[i], distance_3[i])\n",
    "    if check_min == distance_1[i]:\n",
    "        group.append(\"1\")\n",
    "    elif check_min == distance_2[i]:\n",
    "        group.append(\"2\")\n",
    "    elif check_min == distance_3[i]:\n",
    "        group.append(\"3\")\n",
    "print(group)\n",
    "new_centoid_x,  new_centoid_y = [], []\n",
    "for n in range(1,4,1):\n",
    "    # print(n)\n",
    "    sum_x, sum_y = [], []\n",
    "    for i in range(len(group)):\n",
    "        if group[i] == str(n):\n",
    "            sum_x.append(df['x'][i])\n",
    "            sum_y.append(df['y'][i])   \n",
    "    # print(f\"sum_x : {sum_x}\")\n",
    "    # print(f\"sum_y : {sum_y}\")\n",
    "    average_x = round(sum(sum_x)/len(sum_x), 2)\n",
    "    average_y = round(sum(sum_y)/len(sum_y), 2)\n",
    "    # print(f\"average group {n} : ({average_x}, {average_y})\")\n",
    "    new_centoid_x.append(average_x)\n",
    "    new_centoid_y.append(average_y)\n",
    "print(f\"new centoid x : {new_centoid_x}\")\n",
    "print(f\"new centoid x : {new_centoid_y}\")\n",
    "centoid_1['x'] = new_centoid_x[0]\n",
    "centoid_1['y'] = new_centoid_y[0]\n",
    "centoid_2['x'] = new_centoid_x[1]\n",
    "centoid_2['y'] = new_centoid_y[1]\n",
    "centoid_3['x'] = new_centoid_x[2]\n",
    "centoid_3['y'] = new_centoid_y[2]\n",
    "print(centoid_1)\n",
    "print(centoid_2)\n",
    "print(centoid_3)\n",
    "iteration_x['2'] = new_centoid_x\n",
    "iteration_y['2'] = new_centoid_y"
   ]
  },
  {
   "cell_type": "code",
   "execution_count": 110,
   "metadata": {},
   "outputs": [
    {
     "output_type": "execute_result",
     "data": {
      "text/plain": [
       "     1    2\n",
       "0  6.0  7.0\n",
       "1  1.5  2.0\n",
       "2 -4.0 -4.0"
      ],
      "text/html": "<div>\n<style scoped>\n    .dataframe tbody tr th:only-of-type {\n        vertical-align: middle;\n    }\n\n    .dataframe tbody tr th {\n        vertical-align: top;\n    }\n\n    .dataframe thead th {\n        text-align: right;\n    }\n</style>\n<table border=\"1\" class=\"dataframe\">\n  <thead>\n    <tr style=\"text-align: right;\">\n      <th></th>\n      <th>1</th>\n      <th>2</th>\n    </tr>\n  </thead>\n  <tbody>\n    <tr>\n      <th>0</th>\n      <td>6.0</td>\n      <td>7.0</td>\n    </tr>\n    <tr>\n      <th>1</th>\n      <td>1.5</td>\n      <td>2.0</td>\n    </tr>\n    <tr>\n      <th>2</th>\n      <td>-4.0</td>\n      <td>-4.0</td>\n    </tr>\n  </tbody>\n</table>\n</div>"
     },
     "metadata": {},
     "execution_count": 110
    }
   ],
   "source": [
    "iteration_x"
   ]
  },
  {
   "cell_type": "code",
   "execution_count": 111,
   "metadata": {},
   "outputs": [
    {
     "output_type": "execute_result",
     "data": {
      "text/plain": [
       "      1     2\n",
       "0  6.00  7.00\n",
       "1  2.00  2.33\n",
       "2 -4.67 -4.67"
      ],
      "text/html": "<div>\n<style scoped>\n    .dataframe tbody tr th:only-of-type {\n        vertical-align: middle;\n    }\n\n    .dataframe tbody tr th {\n        vertical-align: top;\n    }\n\n    .dataframe thead th {\n        text-align: right;\n    }\n</style>\n<table border=\"1\" class=\"dataframe\">\n  <thead>\n    <tr style=\"text-align: right;\">\n      <th></th>\n      <th>1</th>\n      <th>2</th>\n    </tr>\n  </thead>\n  <tbody>\n    <tr>\n      <th>0</th>\n      <td>6.00</td>\n      <td>7.00</td>\n    </tr>\n    <tr>\n      <th>1</th>\n      <td>2.00</td>\n      <td>2.33</td>\n    </tr>\n    <tr>\n      <th>2</th>\n      <td>-4.67</td>\n      <td>-4.67</td>\n    </tr>\n  </tbody>\n</table>\n</div>"
     },
     "metadata": {},
     "execution_count": 111
    }
   ],
   "source": [
    "iteration_y"
   ]
  },
  {
   "cell_type": "code",
   "execution_count": 112,
   "metadata": {},
   "outputs": [
    {
     "output_type": "stream",
     "name": "stdout",
     "text": [
      "['2', '2', '2', '1', '1', '1', '3', '3', '3']\n",
      "new centoid x : [7.0, 2.0, -4.0]\n",
      "new centoid x : [7.0, 2.33, -4.67]\n",
      "{'x': 7.0, 'y': 7.0}\n",
      "{'x': 2.0, 'y': 2.33}\n",
      "{'x': -4.0, 'y': -4.67}\n"
     ]
    }
   ],
   "source": [
    "distance_1 = get_distance(df, centoid_1)\n",
    "distance_2 = get_distance(df, centoid_2)\n",
    "distance_3 = get_distance(df, centoid_3)\n",
    "group = []\n",
    "for i in range(len(distance_1)):\n",
    "    check_min = min(distance_1[i], distance_2[i], distance_3[i])\n",
    "    if check_min == distance_1[i]:\n",
    "        group.append(\"1\")\n",
    "    elif check_min == distance_2[i]:\n",
    "        group.append(\"2\")\n",
    "    elif check_min == distance_3[i]:\n",
    "        group.append(\"3\")\n",
    "print(group)\n",
    "new_centoid_x,  new_centoid_y = [], []\n",
    "for n in range(1,4,1):\n",
    "    # print(n)\n",
    "    sum_x, sum_y = [], []\n",
    "    for i in range(len(group)):\n",
    "        if group[i] == str(n):\n",
    "            sum_x.append(df['x'][i])\n",
    "            sum_y.append(df['y'][i])   \n",
    "    # print(f\"sum_x : {sum_x}\")\n",
    "    # print(f\"sum_y : {sum_y}\")\n",
    "    average_x = round(sum(sum_x)/len(sum_x), 2)\n",
    "    average_y = round(sum(sum_y)/len(sum_y), 2)\n",
    "    # print(f\"average group {n} : ({average_x}, {average_y})\")\n",
    "    new_centoid_x.append(average_x)\n",
    "    new_centoid_y.append(average_y)\n",
    "print(f\"new centoid x : {new_centoid_x}\")\n",
    "print(f\"new centoid x : {new_centoid_y}\")\n",
    "centoid_1['x'] = new_centoid_x[0]\n",
    "centoid_1['y'] = new_centoid_y[0]\n",
    "centoid_2['x'] = new_centoid_x[1]\n",
    "centoid_2['y'] = new_centoid_y[1]\n",
    "centoid_3['x'] = new_centoid_x[2]\n",
    "centoid_3['y'] = new_centoid_y[2]\n",
    "print(centoid_1)\n",
    "print(centoid_2)\n",
    "print(centoid_3)\n",
    "iteration_x['3'] = new_centoid_x\n",
    "iteration_y['3'] = new_centoid_y"
   ]
  },
  {
   "cell_type": "code",
   "execution_count": 113,
   "metadata": {},
   "outputs": [
    {
     "output_type": "execute_result",
     "data": {
      "text/plain": [
       "     1    2    3\n",
       "0  6.0  7.0  7.0\n",
       "1  1.5  2.0  2.0\n",
       "2 -4.0 -4.0 -4.0"
      ],
      "text/html": "<div>\n<style scoped>\n    .dataframe tbody tr th:only-of-type {\n        vertical-align: middle;\n    }\n\n    .dataframe tbody tr th {\n        vertical-align: top;\n    }\n\n    .dataframe thead th {\n        text-align: right;\n    }\n</style>\n<table border=\"1\" class=\"dataframe\">\n  <thead>\n    <tr style=\"text-align: right;\">\n      <th></th>\n      <th>1</th>\n      <th>2</th>\n      <th>3</th>\n    </tr>\n  </thead>\n  <tbody>\n    <tr>\n      <th>0</th>\n      <td>6.0</td>\n      <td>7.0</td>\n      <td>7.0</td>\n    </tr>\n    <tr>\n      <th>1</th>\n      <td>1.5</td>\n      <td>2.0</td>\n      <td>2.0</td>\n    </tr>\n    <tr>\n      <th>2</th>\n      <td>-4.0</td>\n      <td>-4.0</td>\n      <td>-4.0</td>\n    </tr>\n  </tbody>\n</table>\n</div>"
     },
     "metadata": {},
     "execution_count": 113
    }
   ],
   "source": [
    "iteration_x"
   ]
  },
  {
   "cell_type": "code",
   "execution_count": 114,
   "metadata": {},
   "outputs": [
    {
     "output_type": "execute_result",
     "data": {
      "text/plain": [
       "      1     2     3\n",
       "0  6.00  7.00  7.00\n",
       "1  2.00  2.33  2.33\n",
       "2 -4.67 -4.67 -4.67"
      ],
      "text/html": "<div>\n<style scoped>\n    .dataframe tbody tr th:only-of-type {\n        vertical-align: middle;\n    }\n\n    .dataframe tbody tr th {\n        vertical-align: top;\n    }\n\n    .dataframe thead th {\n        text-align: right;\n    }\n</style>\n<table border=\"1\" class=\"dataframe\">\n  <thead>\n    <tr style=\"text-align: right;\">\n      <th></th>\n      <th>1</th>\n      <th>2</th>\n      <th>3</th>\n    </tr>\n  </thead>\n  <tbody>\n    <tr>\n      <th>0</th>\n      <td>6.00</td>\n      <td>7.00</td>\n      <td>7.00</td>\n    </tr>\n    <tr>\n      <th>1</th>\n      <td>2.00</td>\n      <td>2.33</td>\n      <td>2.33</td>\n    </tr>\n    <tr>\n      <th>2</th>\n      <td>-4.67</td>\n      <td>-4.67</td>\n      <td>-4.67</td>\n    </tr>\n  </tbody>\n</table>\n</div>"
     },
     "metadata": {},
     "execution_count": 114
    }
   ],
   "source": [
    "iteration_y"
   ]
  },
  {
   "cell_type": "code",
   "execution_count": null,
   "metadata": {},
   "outputs": [],
   "source": []
  }
 ]
}